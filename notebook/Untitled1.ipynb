{
 "cells": [
  {
   "cell_type": "code",
   "execution_count": 2,
   "metadata": {},
   "outputs": [
    {
     "name": "stderr",
     "output_type": "stream",
     "text": [
      "C:\\ProgramData\\Anaconda3\\lib\\site-packages\\h5py\\__init__.py:36: FutureWarning: Conversion of the second argument of issubdtype from `float` to `np.floating` is deprecated. In future, it will be treated as `np.float64 == np.dtype(float).type`.\n",
      "  from ._conv import register_converters as _register_converters\n"
     ]
    }
   ],
   "source": [
    "import numpy as np\n",
    "import cv2\n",
    "import matplotlib\n",
    "import matplotlib.pyplot as plt\n",
    "import matplotlib.patches as patches\n",
    "import random\n",
    "%matplotlib inline\n",
    "%config InlineBackend.figure_format = 'retina'\n",
    "import tensorflow as tf\n",
    "import numpy as np\n",
    "import time\n",
    "from scipy.ndimage import uniform_filter\n",
    "from sklearn.model_selection import train_test_split"
   ]
  },
  {
   "cell_type": "code",
   "execution_count": 34,
   "metadata": {},
   "outputs": [],
   "source": [
    "def get_non0_index_scope(l):\n",
    "    \"\"\"\n",
    "\n",
    "    :param l:\n",
    "    :return:\n",
    "    \"\"\"\n",
    "    if l[0]:\n",
    "        start = 0\n",
    "    else:\n",
    "        start = l.index(True)\n",
    "    l.reverse()\n",
    "    if l[0]:\n",
    "        end = 0\n",
    "    else:\n",
    "        end = l.index(True)\n",
    "    end = len(l) - end\n",
    "    return start, end\n",
    "\n",
    "\n",
    "def get_min_content_area(img):\n",
    "    \"\"\"\n",
    "\n",
    "    :param img:\n",
    "    :return:\n",
    "    \"\"\"\n",
    "    col_proj = (np.sum(img, axis=0) != 0).tolist()\n",
    "    row_proj = (np.sum(img, axis=1) != 0).tolist()\n",
    "    col_start, col_end = get_non0_index_scope(col_proj)\n",
    "    row_start, row_end = get_non0_index_scope(row_proj)\n",
    "\n",
    "    return row_start, row_end, col_start, col_end\n",
    "\n",
    "\n",
    "def get_resize_padding_img(img, size=None, padding=None):\n",
    "    \"\"\"\n",
    "\n",
    "    :param img:\n",
    "    :param size:\n",
    "    :param padding:\n",
    "    :return:\n",
    "    \"\"\"\n",
    "    if size and padding:\n",
    "        sub_img = cv2.resize(img, size)\n",
    "        sub_img = np.pad(sub_img, padding, mode='constant')\n",
    "        sub_img = np.pad(sub_img, ((3,), (3,)), mode='constant')\n",
    "    else:\n",
    "        sub_img = cv2.resize(img, (28, 28))\n",
    "    return sub_img"
   ]
  },
  {
   "cell_type": "code",
   "execution_count": 35,
   "metadata": {},
   "outputs": [],
   "source": [
    "def preprocessing(img):\n",
    "    row_start, row_end, col_start, col_end = get_min_content_area(img)\n",
    "    sub_img = img[row_start: row_end, col_start: col_end]\n",
    "    \n",
    "    if col_end - col_start < row_end - row_start:  # 铅直边较长\n",
    "        change_rate = (row_end - row_start - 42) / float((row_end - row_start))\n",
    "        changed_width = int((col_end - col_start) * (1 - change_rate))\n",
    "\n",
    "        if changed_width % 2 == 1:\n",
    "            changed_width += 1\n",
    "        if changed_width == 0:\n",
    "            changed_width = 2\n",
    "        pad = (42 - changed_width) / 2\n",
    "        padding = ((0,), (int(pad),))\n",
    "\n",
    "#         print(y1 - y0, x1 - x0, 1 - change_rate, changed_width, pad)\n",
    "#         plt.imshow(sub_img)\n",
    "#         plt.show()\n",
    "\n",
    "        sub_img = get_resize_padding_img(sub_img, size=(changed_width, 42), padding=padding)\n",
    "\n",
    "    else:  # 水平边较长\n",
    "        # change_rate = (x1 - x0 - 42) / float((x1 - x0))\n",
    "        # changed_height = int((y1 - y0) * (1 - change_rate))\n",
    "\n",
    "        change_rate = (col_end - col_start - 42) / float((col_end - col_start))\n",
    "        changed_height = int((row_end - row_start) * (1 - change_rate))\n",
    "\n",
    "        if changed_height % 2 == 1:\n",
    "            changed_height += 1\n",
    "        if changed_height == 0:\n",
    "            changed_height = 2\n",
    "        pad = (42 - changed_height) / 2\n",
    "        padding = ((int(pad),), (0,))\n",
    "\n",
    "#         print(y1 - y0, x1 - x0, 1 - change_rate, changed_height, pad)\n",
    "#         plt.imshow(sub_img)\n",
    "#         plt.show()\n",
    "\n",
    "        sub_img = get_resize_padding_img(sub_img, size=(42, changed_height), padding=padding)\n",
    "\n",
    "    return sub_img"
   ]
  },
  {
   "cell_type": "code",
   "execution_count": 107,
   "metadata": {},
   "outputs": [
    {
     "data": {
      "text/plain": [
       "(<matplotlib.image.AxesImage at 0x28d6499e160>, (2, 90, 58))"
      ]
     },
     "execution_count": 107,
     "metadata": {},
     "output_type": "execute_result"
    },
    {
     "data": {
      "image/png": "[encoded data removed]",
      "text/plain": [
       "<matplotlib.figure.Figure at 0x28d6319eb00>"
      ]
     },
     "metadata": {
      "image/png": {
       "height": 250,
       "width": 176
      }
     },
     "output_type": "display_data"
    }
   ],
   "source": [
    "def read_img(file_name, color_inv_norm=True):\n",
    "    \"\"\"\n",
    "    read a image from local file system\n",
    "    :param file_name:\n",
    "    :param color_inv_norm:\n",
    "    :return:\n",
    "    \"\"\"\n",
    "    img = cv2.imread(file_name, cv2.IMREAD_GRAYSCALE)\n",
    "\n",
    "    if color_inv_norm:\n",
    "        img = 255 - img\n",
    "\n",
    "        # img = remove_back(img, np.ones((5, 5), np.uint8))\n",
    "\n",
    "        img = img / 255.0\n",
    "    else:\n",
    "        img[img < 50] = 0\n",
    "        img = img / 255.0\n",
    "\n",
    "    return img\n",
    "\n",
    "def get_data(base_path):\n",
    "    \"\"\"\n",
    "\n",
    "    :param base_path:\n",
    "    :return:\n",
    "    \"\"\"\n",
    "    nums = os.listdir(base_path)\n",
    "    train_data = []\n",
    "    train_label = []\n",
    "    lbl = [[1, 0, 0, 0, 0, 0, 0, 0, 0, 0],\n",
    "           [0, 1, 0, 0, 0, 0, 0, 0, 0, 0],\n",
    "           [0, 0, 1, 0, 0, 0, 0, 0, 0, 0],\n",
    "           [0, 0, 0, 1, 0, 0, 0, 0, 0, 0],\n",
    "           [0, 0, 0, 0, 1, 0, 0, 0, 0, 0],\n",
    "           [0, 0, 0, 0, 0, 1, 0, 0, 0, 0],\n",
    "           [0, 0, 0, 0, 0, 0, 1, 0, 0, 0],\n",
    "           [0, 0, 0, 0, 0, 0, 0, 1, 0, 0],\n",
    "           [0, 0, 0, 0, 0, 0, 0, 0, 1, 0],\n",
    "           [0, 0, 0, 0, 0, 0, 0, 0, 0, 1]]\n",
    "    for num in tqdm(nums):\n",
    "        calc = 0\n",
    "        jpgs = os.listdir(os.path.join(base_path, num))\n",
    "#         print('-' * 30, 'now load %s' % num, '-' * 30)\n",
    "        for jpg in jpgs:\n",
    "            # calc += 1\n",
    "            # if calc > 5000:\n",
    "            #     print('the %s data is more than 5000' % num)\n",
    "                # break\n",
    "\n",
    "            fname = os.path.join(base_path, num, jpg)\n",
    "            pic = read_img(fname, color_inv_norm=False)\n",
    "            train_data.append(pic)\n",
    "            train_label.append(lbl[int(num)])\n",
    "\n",
    "    train_data = np.array(train_data)\n",
    "    train_label = np.array(train_label)\n",
    "    # print(train_data.shape, train_label.shape)\n",
    "    # print(train_data)\n",
    "    # print(np.argmax(train_label, axis=1))\n",
    "    return train_data, train_label\n",
    "\n"
   ]
  },
  {
   "cell_type": "code",
   "execution_count": 160,
   "metadata": {},
   "outputs": [],
   "source": [
    "def hog_feature_mul(im):\n",
    "    \"\"\"Compute Histogram of Gradient (HOG) feature for an image\n",
    "\n",
    "         Modified from skimage.feature.hog\n",
    "         http://pydoc.net/Python/scikits-image/0.4.2/skimage.feature.hog\n",
    "\n",
    "       Reference:\n",
    "         Histograms of Oriented Gradients for Human Detection\n",
    "         Navneet Dalal and Bill Triggs, CVPR 2005\n",
    "\n",
    "      Parameters:\n",
    "        im : an input grayscale or rgb image\n",
    "\n",
    "      Returns:\n",
    "        feat: Histogram of Gradient (HOG) feature\n",
    "\n",
    "    \"\"\"\n",
    "    # convert rgb to grayscale if needed\n",
    "#     if im.ndim == 3:\n",
    "#         image = rgb2gray(im)\n",
    "#     else:\n",
    "#         image = np.atleast_2d(im)\n",
    "    image = im\n",
    "    _, sx, sy = image.shape  # image size\n",
    "    orientations = 9  # number of gradient bins\n",
    "    cx, cy = (8, 8)  # pixels per cell\n",
    "    gx = np.zeros(image.shape)\n",
    "    gy = np.zeros(image.shape)\n",
    "    gx[:, :, :-1] = np.diff(image, n=1, axis=2)  # compute gradient on x-direction\n",
    "    gy[:, :-1, :] = np.diff(image, n=1, axis=1)  # compute gradient on y-direction\n",
    "    grad_mag = np.sqrt(gx ** 2 + gy ** 2)  # gradient magnitude\n",
    "    grad_ori = np.arctan2(gy, (gx + 1e-15)) * (180 / np.pi) + 90  # gradient orientation\n",
    "    print('grad_ori', grad_ori.shape)\n",
    "    n_cellsx = int(np.floor(sx / cx))  # number of cells in x\n",
    "    n_cellsy = int(np.floor(sy / cy))  # number of cells in y\n",
    "    # compute orientations integral images\n",
    "    orientation_histogram = np.zeros((image.shape[0], n_cellsx, n_cellsy, orientations))\n",
    "#     print(orientation_histogram.shape)\n",
    "    for i in range(orientations):\n",
    "        # create new integral image for this orientation\n",
    "        # isolate orientations in this range\n",
    "        temp_ori = np.where(grad_ori < 180 / orientations * (i + 1),\n",
    "                            grad_ori, 0)\n",
    "        temp_ori = np.where(grad_ori >= 180 / orientations * i,\n",
    "                            temp_ori, 0)\n",
    "        # select magnitudes for those orientations\n",
    "        cond2 = temp_ori > 0\n",
    "        temp_mag = np.where(cond2, grad_mag, 0)\n",
    "        \n",
    "        if i == 0:\n",
    "            print('tmp_mag', uniform_filter(temp_mag, size=(1, cx, cy))[0::1, cx // 2::cx, cy // 2::cy].shape)\n",
    "        \n",
    "        # uniform_filter:模糊化\n",
    "        orientation_histogram[:, :, :, i] = uniform_filter(temp_mag, size=(1, cx, cy))[0::1, cx // 2::cx, cy // 2::cy]\n",
    "    return orientation_histogram.reshape(orientation_histogram.shape[0], -1)"
   ]
  },
  {
   "cell_type": "code",
   "execution_count": 161,
   "metadata": {},
   "outputs": [
    {
     "name": "stdout",
     "output_type": "stream",
     "text": [
      "grad_ori (2, 90, 58)\n",
      "tmp_mag (2, 11, 7)\n"
     ]
    },
    {
     "data": {
      "text/plain": [
       "(2, 693)"
      ]
     },
     "execution_count": 161,
     "metadata": {},
     "output_type": "execute_result"
    }
   ],
   "source": [
    "bins = hog_feature_mul(imgs)\n",
    "bins.shape"
   ]
  },
  {
   "cell_type": "markdown",
   "metadata": {},
   "source": [
    "---"
   ]
  },
  {
   "cell_type": "code",
   "execution_count": 26,
   "metadata": {},
   "outputs": [
    {
     "data": {
      "text/plain": [
       "<matplotlib.image.AxesImage at 0x18fff00aa90>"
      ]
     },
     "execution_count": 26,
     "metadata": {},
     "output_type": "execute_result"
    },
    {
     "data": {
      "image/png": "[encoded data removed]",
      "text/plain": [
       "<matplotlib.figure.Figure at 0x18fff3a9be0>"
      ]
     },
     "metadata": {
      "image/png": {
       "height": 250,
       "width": 263
      }
     },
     "output_type": "display_data"
    }
   ],
   "source": [
    "ori = cv2.imread('F:\\\\dl\\\\7.jpg', cv2.IMREAD_GRAYSCALE)\n",
    "img = (255 - ori) / 255.\n",
    "plt.imshow(img)"
   ]
  },
  {
   "cell_type": "code",
   "execution_count": 30,
   "metadata": {},
   "outputs": [
    {
     "data": {
      "text/plain": [
       "<matplotlib.image.AxesImage at 0x18f80fb37b8>"
      ]
     },
     "execution_count": 30,
     "metadata": {},
     "output_type": "execute_result"
    },
    {
     "data": {
      "image/png": "[encoded data removed]",
      "text/plain": [
       "<matplotlib.figure.Figure at 0x18f802e4cf8>"
      ]
     },
     "metadata": {
      "image/png": {
       "height": 250,
       "width": 263
      }
     },
     "output_type": "display_data"
    }
   ],
   "source": [
    "ret, binary = cv2.threshold(ori, 0, 1, cv2.THRESH_OTSU)\n",
    "binary = 1 - binary\n",
    "plt.imshow(binary)"
   ]
  },
  {
   "cell_type": "code",
   "execution_count": 32,
   "metadata": {},
   "outputs": [
    {
     "data": {
      "text/plain": [
       "<matplotlib.image.AxesImage at 0x18f813b2d68>"
      ]
     },
     "execution_count": 32,
     "metadata": {},
     "output_type": "execute_result"
    },
    {
     "data": {
      "image/png": "[encoded data removed]",
      "text/plain": [
       "<matplotlib.figure.Figure at 0x18f802dff60>"
      ]
     },
     "metadata": {
      "image/png": {
       "height": 250,
       "width": 263
      }
     },
     "output_type": "display_data"
    }
   ],
   "source": [
    "img = img * binary\n",
    "plt.imshow(img)"
   ]
  },
  {
   "cell_type": "code",
   "execution_count": 36,
   "metadata": {},
   "outputs": [
    {
     "data": {
      "text/plain": [
       "<matplotlib.image.AxesImage at 0x18f81a05ef0>"
      ]
     },
     "execution_count": 36,
     "metadata": {},
     "output_type": "execute_result"
    },
    {
     "data": {
      "image/png": "[encoded data removed]",
      "text/plain": [
       "<matplotlib.figure.Figure at 0x18f818abf60>"
      ]
     },
     "metadata": {
      "image/png": {
       "height": 250,
       "width": 253
      }
     },
     "output_type": "display_data"
    }
   ],
   "source": [
    "img[img < 0.16] = 0\n",
    "img = preprocessing(img)\n",
    "plt.imshow(img)"
   ]
  },
  {
   "cell_type": "code",
   "execution_count": 63,
   "metadata": {},
   "outputs": [
    {
     "name": "stdout",
     "output_type": "stream",
     "text": [
      "255\n"
     ]
    },
    {
     "data": {
      "text/plain": [
       "<matplotlib.image.AxesImage at 0x18f84b589e8>"
      ]
     },
     "execution_count": 63,
     "metadata": {},
     "output_type": "execute_result"
    },
    {
     "data": {
      "image/png": "[encoded data removed]",
      "text/plain": [
       "<matplotlib.figure.Figure at 0x18f849d0400>"
      ]
     },
     "metadata": {
      "image/png": {
       "height": 250,
       "width": 263
      }
     },
     "output_type": "display_data"
    }
   ],
   "source": [
    "sobel = cv2.Sobel(ori, cv2.CV_8U, dx=1, dy=0, ksize=3)\n",
    "edges = cv2.Canny(ori,5,100,apertureSize = 3)\n",
    "print(np.max(edges))\n",
    "plt.imshow(edges)"
   ]
  },
  {
   "cell_type": "code",
   "execution_count": 56,
   "metadata": {},
   "outputs": [
    {
     "data": {
      "text/plain": [
       "<matplotlib.image.AxesImage at 0x18f84325860>"
      ]
     },
     "execution_count": 56,
     "metadata": {},
     "output_type": "execute_result"
    },
    {
     "data": {
      "image/png": "[encoded data removed]",
      "text/plain": [
       "<matplotlib.figure.Figure at 0x18f8316cf60>"
      ]
     },
     "metadata": {
      "image/png": {
       "height": 250,
       "width": 263
      }
     },
     "output_type": "display_data"
    }
   ],
   "source": [
    "rr, bb = cv2.threshold(sobel, 0, 1, cv2.THRESH_OTSU)\n",
    "plt.imshow(bb)"
   ]
  },
  {
   "cell_type": "code",
   "execution_count": 71,
   "metadata": {},
   "outputs": [],
   "source": [
    "lines = cv2.HoughLines(edges, 0.8, np.pi / 180, 10)\n",
    "for r,theta in lines[0]:\n",
    "\n",
    "    # Stores the value of cos(theta) in a\n",
    "    a = np.cos(theta)\n",
    "\n",
    "    # Stores the value of sin(theta) in b\n",
    "    b = np.sin(theta)\n",
    "\n",
    "    # x0 stores the value rcos(theta)\n",
    "    x0 = a*r\n",
    "\n",
    "    # y0 stores the value rsin(theta)\n",
    "    y0 = b*r\n",
    "\n",
    "    # x1 stores the rounded off value of (rcos(theta)-1000sin(theta))\n",
    "    x1 = int(x0 + 1000*(-b))\n",
    "\n",
    "    # y1 stores the rounded off value of (rsin(theta)+1000cos(theta))\n",
    "    y1 = int(y0 + 1000*(a))\n",
    "\n",
    "    # x2 stores the rounded off value of (rcos(theta)+1000sin(theta))\n",
    "    x2 = int(x0 - 1000*(-b))\n",
    "\n",
    "    # y2 stores the rounded off value of (rsin(theta)-1000cos(theta))\n",
    "    y2 = int(y0 - 1000*(a))\n",
    "\n",
    "    # cv2.line draws a line in img from the point(x1,y1) to (x2,y2).\n",
    "    # (0,0,255) denotes the colour of the line to be \n",
    "    #drawn. In this case, it is red. \n",
    "    cv2.line(img,(x1,y1), (x2,y2), (255,255,255), 2)\n",
    "\n",
    "cv2.namedWindow('img', cv2.WINDOW_NORMAL)\n",
    "cv2.imshow('img', img)\n",
    "cv2.waitKey(0)\n",
    "cv2.destroyAllWindows()"
   ]
  },
  {
   "cell_type": "code",
   "execution_count": null,
   "metadata": {},
   "outputs": [],
   "source": []
  }
 ],
 "metadata": {
  "kernelspec": {
   "display_name": "Python 3",
   "language": "python",
   "name": "python3"
  },
  "language_info": {
   "codemirror_mode": {
    "name": "ipython",
    "version": 3
   },
   "file_extension": ".py",
   "mimetype": "text/x-python",
   "name": "python",
   "nbconvert_exporter": "python",
   "pygments_lexer": "ipython3",
   "version": "3.6.4"
  }
 },
 "nbformat": 4,
 "nbformat_minor": 2
}
