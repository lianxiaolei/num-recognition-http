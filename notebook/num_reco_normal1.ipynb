{
 "cells": [
  {
   "cell_type": "code",
   "execution_count": 1,
   "metadata": {},
   "outputs": [
    {
     "name": "stderr",
     "output_type": "stream",
     "text": [
      "C:\\ProgramData\\Anaconda3\\lib\\site-packages\\h5py\\__init__.py:36: FutureWarning: Conversion of the second argument of issubdtype from `float` to `np.floating` is deprecated. In future, it will be treated as `np.float64 == np.dtype(float).type`.\n",
      "  from ._conv import register_converters as _register_converters\n",
      "Using TensorFlow backend.\n"
     ]
    }
   ],
   "source": [
    "import cv2\n",
    "from keras.callbacks import *\n",
    "from keras.layers import *\n",
    "from keras.models import *\n",
    "from keras.preprocessing import image\n",
    "import numpy as np\n",
    "from keras.applications.vgg16 import VGG16\n",
    "from keras.applications.resnet50 import ResNet50\n",
    "from keras.applications.inception_v3 import InceptionV3\n",
    "from keras.utils import to_categorical\n",
    "import sys\n",
    "from tqdm import tqdm\n",
    "from sklearn.model_selection import train_test_split\n",
    "import matplotlib.pyplot as plt"
   ]
  },
  {
   "cell_type": "code",
   "execution_count": 14,
   "metadata": {},
   "outputs": [],
   "source": [
    "def read_img(file_name, color_inv_norm=True):\n",
    "    \"\"\"\n",
    "    read a image from local file system\n",
    "    :param file_name:\n",
    "    :param color_inv_norm:\n",
    "    :return:\n",
    "    \"\"\"\n",
    "    img = cv2.imread(file_name, cv2.IMREAD_GRAYSCALE)\n",
    "\n",
    "    if color_inv_norm:\n",
    "        img = 255 - img\n",
    "\n",
    "        # img = remove_back(img, np.ones((5, 5), np.uint8))\n",
    "\n",
    "#         img = img / 255.0\n",
    "    else:\n",
    "        img[img < 50] = 0\n",
    "        img = img / 255.0\n",
    "\n",
    "    return img"
   ]
  },
  {
   "cell_type": "code",
   "execution_count": 31,
   "metadata": {},
   "outputs": [],
   "source": [
    "def get_non0_index_scope(l):\n",
    "    \"\"\"\n",
    "\n",
    "    :param l:\n",
    "    :return:\n",
    "    \"\"\"\n",
    "    if l[0]:\n",
    "        start = 0\n",
    "    else:\n",
    "        start = l.index(True)\n",
    "    l.reverse()\n",
    "    if l[0]:\n",
    "        end = 0\n",
    "    else:\n",
    "        end = l.index(True)\n",
    "    end = len(l) - end\n",
    "    return start, end\n",
    "\n",
    "\n",
    "def get_min_content_area(img):\n",
    "    \"\"\"\n",
    "\n",
    "    :param img:\n",
    "    :return:\n",
    "    \"\"\"\n",
    "    col_proj = (np.sum(img, axis=0) != 0).tolist()\n",
    "    row_proj = (np.sum(img, axis=1) != 0).tolist()\n",
    "    col_start, col_end = get_non0_index_scope(col_proj)\n",
    "    row_start, row_end = get_non0_index_scope(row_proj)\n",
    "\n",
    "    return row_start, row_end, col_start, col_end\n",
    "\n",
    "\n",
    "def get_resize_padding_img(img, size=None, padding=None):\n",
    "    \"\"\"\n",
    "\n",
    "    :param img:\n",
    "    :param size:\n",
    "    :param padding:\n",
    "    :return:\n",
    "    \"\"\"\n",
    "    if size and padding:\n",
    "        sub_img = cv2.resize(img, size)\n",
    "        sub_img = np.pad(sub_img, padding, mode='constant')\n",
    "        sub_img = np.pad(sub_img, ((3,), (3,)), mode='constant')\n",
    "    else:\n",
    "        sub_img = cv2.resize(img, (28, 28))\n",
    "    return sub_img\n",
    "\n",
    "\n",
    "def preprocessing(img):\n",
    "    img = 255 - img\n",
    "    img = (img - np.min(img)) / (np.max(img) - np.min(img))\n",
    "    img[img < 0.16] = 0.0\n",
    "    img[img > 0] += 0.2\n",
    "    img[img > 1.] = 1.\n",
    "    row_start, row_end, col_start, col_end = get_min_content_area(img)\n",
    "    sub_img = img[row_start: row_end, col_start: col_end]\n",
    "    \n",
    "    if col_end - col_start < row_end - row_start:  # 铅直边较长\n",
    "        change_rate = (row_end - row_start - 42) / float((row_end - row_start))\n",
    "        changed_width = int((col_end - col_start) * (1 - change_rate))\n",
    "\n",
    "        if changed_width % 2 == 1:\n",
    "            changed_width += 1\n",
    "        if changed_width == 0:\n",
    "            changed_width = 2\n",
    "        pad = (42 - changed_width) / 2\n",
    "        padding = ((0,), (int(pad),))\n",
    "        sub_img = get_resize_padding_img(sub_img, size=(changed_width, 42), padding=padding)\n",
    "\n",
    "    else:  # 水平边较长\n",
    "        change_rate = (col_end - col_start - 42) / float((col_end - col_start))\n",
    "        changed_height = int((row_end - row_start) * (1 - change_rate))\n",
    "\n",
    "        if changed_height % 2 == 1:\n",
    "            changed_height += 1\n",
    "        if changed_height == 0:\n",
    "            changed_height = 2\n",
    "        pad = (42 - changed_height) / 2\n",
    "        padding = ((int(pad),), (0,))\n",
    "        sub_img = get_resize_padding_img(sub_img, size=(42, changed_height), padding=padding)\n",
    "\n",
    "    return sub_img"
   ]
  },
  {
   "cell_type": "code",
   "execution_count": 32,
   "metadata": {},
   "outputs": [],
   "source": [
    "from keras.models import *\n",
    "model = load_model('cnn3_gen.h5')"
   ]
  },
  {
   "cell_type": "code",
   "execution_count": 41,
   "metadata": {},
   "outputs": [
    {
     "data": {
      "text/plain": [
       "<matplotlib.image.AxesImage at 0x23b8a7e3978>"
      ]
     },
     "execution_count": 41,
     "metadata": {},
     "output_type": "execute_result"
    },
    {
     "data": {
      "image/png": "[encoded data removed]",
      "text/plain": [
       "<matplotlib.figure.Figure at 0x23b8a7aacc0>"
      ]
     },
     "metadata": {},
     "output_type": "display_data"
    }
   ],
   "source": [
    "img = cv2.imread('D:\\\\pyproj\\\\answer_sheet_discern\\\\pageno.jpg', cv2.IMREAD_GRAYSCALE)\n",
    "plt.imshow(img)"
   ]
  },
  {
   "cell_type": "code",
   "execution_count": 42,
   "metadata": {},
   "outputs": [
    {
     "data": {
      "text/plain": [
       "<matplotlib.image.AxesImage at 0x23b8a842320>"
      ]
     },
     "execution_count": 42,
     "metadata": {},
     "output_type": "execute_result"
    },
    {
     "data": {
      "image/png": "[encoded data removed]",
      "text/plain": [
       "<matplotlib.figure.Figure at 0x23b8a7aad30>"
      ]
     },
     "metadata": {},
     "output_type": "display_data"
    }
   ],
   "source": [
    "plt.imshow(preprocessing(img))"
   ]
  },
  {
   "cell_type": "code",
   "execution_count": 43,
   "metadata": {},
   "outputs": [
    {
     "name": "stdout",
     "output_type": "stream",
     "text": [
      "reco result:  1\n"
     ]
    }
   ],
   "source": [
    "print('reco result: ', np.argmax(model.predict(np.expand_dims(np.expand_dims(preprocessing(img), -1), 0))))"
   ]
  },
  {
   "cell_type": "code",
   "execution_count": 44,
   "metadata": {},
   "outputs": [
    {
     "data": {
      "text/plain": [
       "'1'"
      ]
     },
     "execution_count": 44,
     "metadata": {},
     "output_type": "execute_result"
    }
   ],
   "source": [
    "str(np.argmax(model.predict(np.expand_dims(np.expand_dims(preprocessing(img), -1), 0))))"
   ]
  },
  {
   "cell_type": "code",
   "execution_count": 45,
   "metadata": {},
   "outputs": [
    {
     "data": {
      "text/plain": [
       "1"
      ]
     },
     "execution_count": 45,
     "metadata": {},
     "output_type": "execute_result"
    }
   ],
   "source": [
    " np.argmax(model.predict(np.expand_dims(np.expand_dims(preprocessing(img), -1), 0)))"
   ]
  },
  {
   "cell_type": "code",
   "execution_count": 46,
   "metadata": {},
   "outputs": [
    {
     "data": {
      "text/plain": [
       "1"
      ]
     },
     "execution_count": 46,
     "metadata": {},
     "output_type": "execute_result"
    }
   ],
   "source": [
    "np.argmax(model.predict(np.expand_dims(np.expand_dims(preprocessing(img), -1), 0)))"
   ]
  },
  {
   "cell_type": "code",
   "execution_count": 48,
   "metadata": {},
   "outputs": [
    {
     "name": "stdout",
     "output_type": "stream",
     "text": [
      "[[0. 0. 0. ... 0. 0. 0.]\n",
      " [0. 0. 0. ... 0. 0. 0.]\n",
      " [0. 0. 0. ... 0. 0. 0.]\n",
      " ...\n",
      " [0. 0. 0. ... 0. 0. 0.]\n",
      " [0. 0. 0. ... 0. 0. 0.]\n",
      " [0. 0. 0. ... 0. 0. 0.]]\n"
     ]
    }
   ],
   "source": [
    "print(preprocessing(img))"
   ]
  },
  {
   "cell_type": "code",
   "execution_count": 49,
   "metadata": {},
   "outputs": [],
   "source": [
    "a = np.random.randn(3,4)"
   ]
  },
  {
   "cell_type": "code",
   "execution_count": 50,
   "metadata": {},
   "outputs": [
    {
     "data": {
      "text/plain": [
       "array([[-0.16145007, -0.06866183, -0.83392476, -1.51120024],\n",
       "       [ 0.5513889 , -0.7154115 , -1.44300021, -0.78205979],\n",
       "       [ 2.6368181 ,  1.35012789,  0.02209672,  0.46991432]])"
      ]
     },
     "execution_count": 50,
     "metadata": {},
     "output_type": "execute_result"
    }
   ],
   "source": [
    "a"
   ]
  },
  {
   "cell_type": "code",
   "execution_count": 51,
   "metadata": {},
   "outputs": [],
   "source": [
    "a[a<0.2] = 0"
   ]
  },
  {
   "cell_type": "code",
   "execution_count": 52,
   "metadata": {},
   "outputs": [
    {
     "data": {
      "text/plain": [
       "array([[0.        , 0.        , 0.        , 0.        ],\n",
       "       [0.5513889 , 0.        , 0.        , 0.        ],\n",
       "       [2.6368181 , 1.35012789, 0.        , 0.46991432]])"
      ]
     },
     "execution_count": 52,
     "metadata": {},
     "output_type": "execute_result"
    }
   ],
   "source": [
    "a"
   ]
  },
  {
   "cell_type": "code",
   "execution_count": 54,
   "metadata": {},
   "outputs": [
    {
     "data": {
      "text/plain": [
       "4"
      ]
     },
     "execution_count": 54,
     "metadata": {},
     "output_type": "execute_result"
    }
   ],
   "source": [
    "np.sum(a>0)"
   ]
  },
  {
   "cell_type": "code",
   "execution_count": null,
   "metadata": {},
   "outputs": [],
   "source": []
  }
 ],
 "metadata": {
  "kernelspec": {
   "display_name": "Python 3",
   "language": "python",
   "name": "python3"
  },
  "language_info": {
   "codemirror_mode": {
    "name": "ipython",
    "version": 3
   },
   "file_extension": ".py",
   "mimetype": "text/x-python",
   "name": "python",
   "nbconvert_exporter": "python",
   "pygments_lexer": "ipython3",
   "version": "3.6.4"
  }
 },
 "nbformat": 4,
 "nbformat_minor": 2
}
